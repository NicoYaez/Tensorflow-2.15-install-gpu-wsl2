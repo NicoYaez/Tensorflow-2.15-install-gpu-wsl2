{
 "cells": [
  {
   "cell_type": "code",
   "execution_count": 5,
   "id": "32e25fe6-677f-4190-9b52-61c994d2f215",
   "metadata": {},
   "outputs": [],
   "source": [
    "import tensorflow as tf"
   ]
  },
  {
   "cell_type": "code",
   "execution_count": 6,
   "id": "5b7b203c-7821-4d07-af29-850388eb0971",
   "metadata": {},
   "outputs": [
    {
     "name": "stdout",
     "output_type": "stream",
     "text": [
      "Versión de TensorFlow: 2.15.0\n",
      "TensorFlow se está ejecutando con GPU: [PhysicalDevice(name='/physical_device:GPU:0', device_type='GPU')]\n",
      "Versión de CUDA utilizada por TensorFlow: True\n"
     ]
    }
   ],
   "source": [
    "print(\"Versión de TensorFlow:\", tf.__version__)\n",
    "\n",
    "# Verificar si TensorFlow está utilizando GPU\n",
    "print(\"TensorFlow se está ejecutando con GPU:\", tf.config.list_physical_devices('GPU'))\n",
    "\n",
    "# Verificar la versión de CUDA\n",
    "print(\"Versión de CUDA utilizada por TensorFlow:\", tf.test.is_built_with_cuda())"
   ]
  },
  {
   "cell_type": "code",
   "execution_count": 7,
   "id": "0455cda7-3860-4143-951a-cb7d96b6d442",
   "metadata": {
    "scrolled": true
   },
   "outputs": [
    {
     "name": "stdout",
     "output_type": "stream",
     "text": [
      "Num GPUs Available:  [PhysicalDevice(name='/physical_device:GPU:0', device_type='GPU')] 1\n"
     ]
    }
   ],
   "source": [
    "print(\"Num GPUs Available: \", tf.config.list_physical_devices('GPU') , len(tf.config.list_physical_devices('GPU')))"
   ]
  },
  {
   "cell_type": "code",
   "execution_count": 9,
   "id": "3ab95045-f80d-4e1b-80ea-74c4d791b6dd",
   "metadata": {},
   "outputs": [
    {
     "name": "stdout",
     "output_type": "stream",
     "text": [
      "GPU disponible:  PhysicalDevice(name='/physical_device:GPU:0', device_type='GPU')\n",
      "1 GPU lógica disponible:  1\n"
     ]
    }
   ],
   "source": [
    "# Obtener la lista de dispositivos disponibles\n",
    "devices = tf.config.experimental.list_physical_devices('GPU')\n",
    "\n",
    "# Verificar si hay al menos una GPU disponible\n",
    "if len(devices) > 0:\n",
    "    print(\"GPU disponible: \", devices[0])\n",
    "    # Configurar TensorFlow para usar la GPU\n",
    "    tf.config.experimental.set_visible_devices(devices[0], 'GPU')\n",
    "    logical_gpus = tf.config.experimental.list_logical_devices('GPU')\n",
    "    print(len(devices), \"GPU lógica disponible: \", len(logical_gpus))\n",
    "else:\n",
    "    print(\"No se encontraron GPUs disponibles.\")"
   ]
  },
  {
   "cell_type": "code",
   "execution_count": 10,
   "id": "71cafbae-6c54-459c-9bfe-1869a745ff06",
   "metadata": {},
   "outputs": [],
   "source": [
    "import keras\n",
    "import numpy as np\n",
    "import matplotlib.pyplot as plt"
   ]
  },
  {
   "cell_type": "code",
   "execution_count": 11,
   "id": "11b2c39e-63ea-4045-a574-25923729e90b",
   "metadata": {},
   "outputs": [
    {
     "name": "stdout",
     "output_type": "stream",
     "text": [
      "Downloading data from https://storage.googleapis.com/tensorflow/tf-keras-datasets/train-labels-idx1-ubyte.gz\n",
      "29515/29515 [==============================] - 0s 0us/step\n",
      "Downloading data from https://storage.googleapis.com/tensorflow/tf-keras-datasets/train-images-idx3-ubyte.gz\n",
      "26421880/26421880 [==============================] - 2s 0us/step\n",
      "Downloading data from https://storage.googleapis.com/tensorflow/tf-keras-datasets/t10k-labels-idx1-ubyte.gz\n",
      "5148/5148 [==============================] - 0s 0us/step\n",
      "Downloading data from https://storage.googleapis.com/tensorflow/tf-keras-datasets/t10k-images-idx3-ubyte.gz\n",
      "4422102/4422102 [==============================] - 1s 0us/step\n"
     ]
    }
   ],
   "source": [
    "fashion_mnist = keras.datasets.fashion_mnist\n",
    "(train_images, train_labels), (test_images, test_labels) = fashion_mnist.load_data()"
   ]
  },
  {
   "cell_type": "code",
   "execution_count": 12,
   "id": "962ec4ba-1989-46ed-b89d-0acf847fd8ef",
   "metadata": {},
   "outputs": [],
   "source": [
    "class_names = ['Camiseta','Pantalón','Suéter','Vestido','Abrigo','Sandalia','Camisa','Zapatilla deportiva','Bolso','Botines']"
   ]
  },
  {
   "cell_type": "code",
   "execution_count": 13,
   "id": "5c22fe61-30fa-45d2-b82d-f16e7af9ed9f",
   "metadata": {},
   "outputs": [
    {
     "data": {
      "image/png": "[encoded data removed]",
      "text/plain": [
       "<Figure size 640x480 with 1 Axes>"
      ]
     },
     "metadata": {},
     "output_type": "display_data"
    },
    {
     "name": "stdout",
     "output_type": "stream",
     "text": [
      "Botines\n",
      "(28, 28)\n"
     ]
    }
   ],
   "source": [
    "plt.imshow(train_images[11])\n",
    "plt.grid(False)\n",
    "plt.show()\n",
    "print(class_names[train_labels[11]])\n",
    "print(train_images[11].shape)"
   ]
  },
  {
   "cell_type": "code",
   "execution_count": 14,
   "id": "f8775914-7a48-4e96-90ca-aaf78a480be0",
   "metadata": {},
   "outputs": [],
   "source": [
    "model = keras.Sequential([\n",
    " keras.layers.Flatten(input_shape=(28,28)),\n",
    " keras.layers.Dense(150, activation='relu'),\n",
    " keras.layers.Dense(10, activation='softmax')\n",
    "])"
   ]
  },
  {
   "cell_type": "code",
   "execution_count": 15,
   "id": "d495d366-d18c-4751-a578-6274b3f62abe",
   "metadata": {},
   "outputs": [],
   "source": [
    "model.compile(optimizer = 'adadelta',loss = 'sparse_categorical_crossentropy',metrics=['accuracy'])"
   ]
  },
  {
   "cell_type": "code",
   "execution_count": 16,
   "id": "579e489a-3257-430a-a039-d56c08fbf5d2",
   "metadata": {},
   "outputs": [
    {
     "name": "stdout",
     "output_type": "stream",
     "text": [
      "Model: \"sequential\"\n",
      "_________________________________________________________________\n",
      " Layer (type)                Output Shape              Param #   \n",
      "=================================================================\n",
      " flatten (Flatten)           (None, 784)               0         \n",
      "                                                                 \n",
      " dense (Dense)               (None, 150)               117750    \n",
      "                                                                 \n",
      " dense_1 (Dense)             (None, 10)                1510      \n",
      "                                                                 \n",
      "=================================================================\n",
      "Total params: 119260 (465.86 KB)\n",
      "Trainable params: 119260 (465.86 KB)\n",
      "Non-trainable params: 0 (0.00 Byte)\n",
      "_________________________________________________________________\n"
     ]
    }
   ],
   "source": [
    "model.summary()"
   ]
  },
  {
   "cell_type": "code",
   "execution_count": 17,
   "id": "012b1d57-8fe8-404c-b9dd-c182d98cffd2",
   "metadata": {},
   "outputs": [
    {
     "name": "stdout",
     "output_type": "stream",
     "text": [
      "Epoch 1/10\n"
     ]
    },
    {
     "name": "stderr",
     "output_type": "stream",
     "text": [
      "2024-04-24 18:20:09.292247: I external/local_xla/xla/service/service.cc:168] XLA service 0x7f2c8fc43900 initialized for platform CUDA (this does not guarantee that XLA will be used). Devices:\n",
      "2024-04-24 18:20:09.292283: I external/local_xla/xla/service/service.cc:176]   StreamExecutor device (0): NVIDIA GeForce RTX 3060, Compute Capability 8.6\n",
      "2024-04-24 18:20:09.313791: I tensorflow/compiler/mlir/tensorflow/utils/dump_mlir_util.cc:269] disabling MLIR crash reproducer, set env var `MLIR_CRASH_REPRODUCER_DIRECTORY` to enable.\n",
      "2024-04-24 18:20:09.365671: I external/local_xla/xla/stream_executor/cuda/cuda_dnn.cc:454] Loaded cuDNN version 8904\n",
      "WARNING: All log messages before absl::InitializeLog() is called are written to STDERR\n",
      "I0000 00:00:1713997209.454769   25277 device_compiler.h:186] Compiled cluster using XLA!  This line is logged at most once for the lifetime of the process.\n"
     ]
    },
    {
     "name": "stdout",
     "output_type": "stream",
     "text": [
      "5000/5000 [==============================] - 15s 3ms/step - loss: 71.5598 - accuracy: 0.3155\n",
      "Epoch 2/10\n",
      "5000/5000 [==============================] - 14s 3ms/step - loss: 27.0358 - accuracy: 0.4907\n",
      "Epoch 3/10\n",
      "5000/5000 [==============================] - 14s 3ms/step - loss: 20.6634 - accuracy: 0.5585\n",
      "Epoch 4/10\n",
      "5000/5000 [==============================] - 13s 3ms/step - loss: 17.4759 - accuracy: 0.5996\n",
      "Epoch 5/10\n",
      "5000/5000 [==============================] - 13s 3ms/step - loss: 15.4451 - accuracy: 0.6265\n",
      "Epoch 6/10\n",
      "5000/5000 [==============================] - 13s 3ms/step - loss: 14.0071 - accuracy: 0.6471\n",
      "Epoch 7/10\n",
      "5000/5000 [==============================] - 13s 3ms/step - loss: 12.9471 - accuracy: 0.6627\n",
      "Epoch 8/10\n",
      "5000/5000 [==============================] - 13s 3ms/step - loss: 12.1216 - accuracy: 0.6751\n",
      "Epoch 9/10\n",
      "5000/5000 [==============================] - 13s 3ms/step - loss: 11.4567 - accuracy: 0.6849\n",
      "Epoch 10/10\n",
      "5000/5000 [==============================] - 13s 3ms/step - loss: 10.8929 - accuracy: 0.6945\n"
     ]
    },
    {
     "data": {
      "text/plain": [
       "<keras.src.callbacks.History at 0x7f2ca4845c10>"
      ]
     },
     "execution_count": 17,
     "metadata": {},
     "output_type": "execute_result"
    }
   ],
   "source": [
    "model.fit(train_images,train_labels, batch_size=12, epochs=10)"
   ]
  },
  {
   "cell_type": "code",
   "execution_count": null,
   "id": "a09e7557-ddfe-4f60-a62f-5d5ca69fb1f4",
   "metadata": {},
   "outputs": [],
   "source": []
  }
 ],
 "metadata": {
  "kernelspec": {
   "display_name": "entornoGPU",
   "language": "python",
   "name": "entornogpu"
  },
  "language_info": {
   "codemirror_mode": {
    "name": "ipython",
    "version": 3
   },
   "file_extension": ".py",
   "mimetype": "text/x-python",
   "name": "python",
   "nbconvert_exporter": "python",
   "pygments_lexer": "ipython3",
   "version": "3.11.9"
  }
 },
 "nbformat": 4,
 "nbformat_minor": 5
}
